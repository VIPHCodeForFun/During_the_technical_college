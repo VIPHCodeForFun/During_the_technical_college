{
 "cells": [
  {
   "cell_type": "markdown",
   "id": "fe1aec66",
   "metadata": {},
   "source": [
    "Übung 7 - 9: Aufgaben mit Hilfe einer Simulation lösen"
   ]
  },
  {
   "cell_type": "markdown",
   "id": "50c02fb6",
   "metadata": {},
   "source": [
    "Übung 7 (P & H):\n",
    "Eine Münze wird 3 mal geworfen. Eine Person weiß, dass das Ereignis ”Kopf” in mindestens\n",
    "2 von den 3 Würfen vorkommt. Wie lautet die (bedingte) Wahrscheinlichkeit für den Fall,\n",
    "dass beim 3ten Wurf das Ereignis ”Zahl” eintritt?\n",
    "Berechne das Beispiel zunächst per Hand, danach ist ein kurzes Programm zu schreiben und\n",
    "dasselbe Bsp mit Hilfe einer Simulation zu ’überprüfen’."
   ]
  },
  {
   "cell_type": "markdown",
   "id": "184059b2",
   "metadata": {},
   "source": [
    "1. Diese Simulation soll eine Funktion beinhalten, welche dafür sorgt dass der dreifache\n",
    "Münzwurf simuliert wird. Nenne die Funktion muenzwurf() und übergib der Funktion\n",
    "als Input die beiden Elementarereignisse, sowie die Information wie oft ein Münzwurf\n",
    "wiederholt werden soll. Für das Simulieren des Münzwurfes könnte die in der numpy\n",
    "enthaltenen Funktion choice sich als hilfreich erweisen. Außerdem ist es eventuell hilfreich\n",
    "zu wissen, dass mit dem Befehl \"def\" in Python selbstgeschriebene Funktionen\n",
    "definiert werden."
   ]
  },
  {
   "cell_type": "code",
   "execution_count": 10,
   "id": "e19140fb",
   "metadata": {},
   "outputs": [
    {
     "name": "stdout",
     "output_type": "stream",
     "text": [
      "['K', 'Z', 'Z']\n"
     ]
    }
   ],
   "source": [
    "import numpy as np #lade numpy als np # muss nur ein mal erstellt werden\n",
    "rng = np.random.default_rng()    #erzeuge das Element rng aus np\n",
    "\n",
    "def muenzwurf(events, n):\n",
    "    sim = list()\n",
    "    for wurf in range(n):\n",
    "        sim.append(rng.choice(events))\n",
    "    return sim\n",
    "\n",
    "ergebnis = muenzwurf([\"K\",\"Z\"],3)\n",
    "print(ergebnis)\n",
    "    "
   ]
  },
  {
   "cell_type": "markdown",
   "id": "5e2e3b06",
   "metadata": {},
   "source": [
    "2. Sobald der dreifache Münzwurf durchgeführt wurde soll dieser z.B. mit Hilfe einer\n",
    "geeigneten Schleife wiederholt aufgerufen werden (z.B. bis n = 1000 Durchläufe des\n",
    "Experiments erfolgt sind). Dabei gilt es zu zählen wie oft in den n Münzwürfen das\n",
    "Ereignis zweimal ”Kopf” und einmal ”Zahl” lautet. Dies entspricht der Evaluierung\n",
    "eines Durchlaufs des Experiments. Als hilfreich könnten sich die ’if’-Abfrage und die\n",
    "Funktion append erweisen."
   ]
  },
  {
   "cell_type": "code",
   "execution_count": 217,
   "id": "98b5523f",
   "metadata": {},
   "outputs": [
    {
     "name": "stdout",
     "output_type": "stream",
     "text": [
      "372\n"
     ]
    }
   ],
   "source": [
    "def Münzwurfexperiment(n):\n",
    "    \n",
    "    sum = 0  #|Anzahl| Zwei mal Kopf\n",
    "    for wdh in range(n):\n",
    "        ergebnis= muenzwurf([\"K\",\"Z\"], 3)\n",
    "        Kcount = 0\n",
    "\n",
    "        for i in range(3): #i = 0 bis 2\n",
    "         \n",
    "            if ergebnis[i] == \"K\":\n",
    "                Kcount = Kcount + 1\n",
    "\n",
    "        if Kcount == 2:\n",
    "            sum = sum + 1       \n",
    "            \n",
    "    print(sum)\n",
    "\n",
    "Münzwurfexperiment(1000)\n"
   ]
  },
  {
   "cell_type": "markdown",
   "id": "04173684",
   "metadata": {},
   "source": [
    "3. Abschließend soll gezählt werden wie oft bei den z.B. n = 1000 Durchläufen des Münzwurfs\n",
    "der Fall 3ter Wurf ”Zahl” eintritt. Diese Anzahl gilt es in Relation zu den gesamt\n",
    "durchgeführten Durchläufen zu stellen."
   ]
  },
  {
   "cell_type": "code",
   "execution_count": 274,
   "id": "bcccfc9a",
   "metadata": {},
   "outputs": [
    {
     "name": "stdout",
     "output_type": "stream",
     "text": [
      "|Ereignis|A Zwei mal Kopf : 343 von 1000 Versuchen\n",
      "|Ereignis|B Zahl am Ende  : 524 von 1000 Versuchen\n"
     ]
    }
   ],
   "source": [
    "def Münzwurfexperiment(n):\n",
    "    \n",
    "    Ksum = 0 #|Anzahl| Zwei mal Kopf\n",
    "    Zsum = 0 #|Anzahl| Zahl am Ende\n",
    "    for wdh in range(n):\n",
    "        ergebnis= muenzwurf([\"K\",\"Z\"], 3)\n",
    "        Kcount = 0\n",
    "\n",
    "        for i in range(3): #i = 0 bis 2\n",
    "         \n",
    "            if ergebnis[i] == \"K\":\n",
    "                Kcount = Kcount + 1\n",
    "                \n",
    "        if Kcount == 2:\n",
    "            Ksum = Ksum + 1       \n",
    "        if ergebnis[2] == \"Z\":\n",
    "            Zsum = Zsum + 1\n",
    "    print(\"|Ereignis|A Zwei mal Kopf :\",Ksum , \"von\",n ,\"Versuchen\")\n",
    "    print(\"|Ereignis|B Zahl am Ende  :\",Zsum , \"von\",n ,\"Versuchen\")\n",
    "\n",
    "Münzwurfexperiment(1000)\n"
   ]
  },
  {
   "cell_type": "markdown",
   "id": "abbd6aac",
   "metadata": {},
   "source": [
    "Berechne Erwartungswert und Varianz durch a) analytische Berechnung gemäß der bekannten\n",
    "Definitionen und durch \n",
    "b) eine Schätzung unter zu Hilfenahme einer selbstgeschriebenen Simulation der Zufallsvariable X.\n",
    "Die durchgeführte Simulation soll auf jeden Fall für mindestens n = 2000 Durchläufe erfolgen."
   ]
  },
  {
   "cell_type": "markdown",
   "id": "e69587f9",
   "metadata": {},
   "source": [
    "1. Hilfreich erweist es sich genauer mit den Möglichkeiten der Funktion choise zu beschäftigen.\n",
    "Dies erlaubt die Erstellung der Simulation (also der Umsetzung der definierten ZV) als Einzeiler."
   ]
  },
  {
   "cell_type": "code",
   "execution_count": 450,
   "id": "d4767439",
   "metadata": {},
   "outputs": [],
   "source": [
    "result = [] #Speicher\n",
    "\n",
    "n = 2000\n",
    "for i in range(n):\n",
    "    X = rng.choice([1, 2, 3],p=[0.25, 0.15, 0.6]) #X=[Mögliche Ereignise], p=[Wahrscheinlickeit]\n",
    "    result.append(X)\n"
   ]
  },
  {
   "cell_type": "markdown",
   "id": "f9da2f81",
   "metadata": {},
   "source": [
    "2. Danach gilt es nur mehr die geeigneten Funktionen für Berechnung des Erwartungswerts\n",
    "und der Varianz in der numpy Bibliothek zu finden."
   ]
  },
  {
   "cell_type": "code",
   "execution_count": 451,
   "id": "75b2822e",
   "metadata": {},
   "outputs": [
    {
     "name": "stdout",
     "output_type": "stream",
     "text": [
      "Erwartungswert = 2.3355\n",
      "Varianz = 0.7309397500000002\n"
     ]
    }
   ],
   "source": [
    "E = np.mean(result) #Berechnung des Erwartungswertes\n",
    "V = np.var(result)  #Berechnung der Varianz\n",
    "\n",
    "print(\"Erwartungswert =\",E)\n",
    "print(\"Varianz =\",V)\n"
   ]
  },
  {
   "cell_type": "markdown",
   "id": "0729abf7",
   "metadata": {},
   "source": [
    "Übung 9 (P & H):\n",
    "Ein Biometrisches System zur Zugangskontrolle hat folgende Eckdaten:\n",
    "Das System erkennt eine berechtigte Person in 95 von 100 Fällen richtig, allerdings wird eine unberechtigte Person\n",
    "in 1 von 100 Fällen trotzdem durchgelassen. Das System soll in einer Firma mit 500 Mitarbeitern verwendet werden um den Zugang zum Serverraum zu überwachen, in den nur 3 Personen eintreten dürfen. Wie groß ist die Wahrscheinlichkeit dass eine durchgelassene Person auch Zutrittsberechtigt ist?\n",
    "Dieses Beispiel soll wieder auf zwei Arten berechnet werden.\n",
    "Die händische Variante haben im Vorgängerkurs bereits besprochen. \n",
    "\n",
    "Die Pythonimplementation soll nicht genau die händische Berechnung implementieren sondern mit Hilfe von zwei Funktionen simuliert werden. Ich schlage vor diese \"personBerechtigt\" und \"personDurchgelassen\" zu nennen."
   ]
  },
  {
   "cell_type": "markdown",
   "id": "639ad7f1",
   "metadata": {},
   "source": [
    "1. \"personBerechtigt\" \n",
    "soll unter der Verwendung der schon bekannten uniform Funktion als Ergebnis nur zurückliefern ob eine Person berechtigt ist oder nicht.\n",
    "2. \n",
    "Ich würde dann eine leeres Array initialisieren und mit Hilfe von append das Ergebnis von \"personBerechtigt\" befüllen.\n",
    "3. Für jede Person in dem nun befüllten Array ist es danach notwendig zu evaluieren ob die\n",
    "Personen auch tatsächlich durchgelassen wurde. Da hilft die Funktion \"personDurchgelassen\",\n",
    "welche sich wieder uniform und eine if-Abfrage zu Nutzen machen kann, um zu\n",
    "simulieren ob eine Personen durchgelassen wurde oder nicht.\n",
    "4. Abschließend gilt es noch diejenigen Personen zu finden die sowohl berechtigt waren\n",
    "und auch durchgelassen wurden. Deren Anzahl gilt es jenen gegenüberzustellen, die\n",
    "überhaupt durchgelassen worden sind."
   ]
  },
  {
   "cell_type": "code",
   "execution_count": 818,
   "id": "4b4e7d04",
   "metadata": {},
   "outputs": [
    {
     "name": "stdout",
     "output_type": "stream",
     "text": [
      "[0, 0, 0, 0, 0, 0, 0, 0, 0, 0, 0, 0, 0, 0, 0, 0, 0, 0, 0, 0, 0, 0, 0, 0, 0, 0, 0, 0, 0, 0, 0, 0, 0, 0, 0, 0, 0, 0, 0, 0, 0, 0, 0, 0, 0, 0, 0, 0, 0, 0, 0, 0, 0, 0, 0, 0, 0, 0, 0, 0, 0, 0, 0, 0, 0, 0, 0, 0, 0, 0, 0, 0, 0, 0, 0, 0, 0, 0, 0, 0, 1, 0, 0, 0, 0, 0, 0, 0, 0, 0, 0, 0, 0, 0, 0, 0, 0, 0, 0, 0, 0, 0, 0, 0, 0, 0, 0, 0, 0, 0, 0, 0, 0, 0, 0, 0, 0, 0, 0, 0, 0, 0, 0, 0, 0, 0, 0, 0, 0, 0, 0, 0, 0, 0, 0, 0, 0, 0, 0, 0, 0, 0, 0, 0, 0, 0, 0, 0, 0, 0, 0, 0, 0, 0, 0, 0, 0, 0, 0, 0, 0, 0, 0, 0, 0, 0, 0, 0, 0, 0, 0, 0, 0, 0, 0, 0, 0, 0, 0, 0, 0, 0, 0, 0, 0, 0, 0, 0, 0, 0, 0, 0, 0, 0, 0, 0, 0, 0, 0, 0, 0, 0, 0, 0, 0, 0, 0, 0, 0, 0, 0, 0, 0, 0, 0, 0, 0, 0, 0, 0, 0, 0, 0, 0, 0, 0, 0, 0, 0, 0, 0, 0, 0, 0, 0, 0, 0, 0, 0, 0, 0, 0, 0, 0, 0, 0, 0, 0, 0, 0, 0, 0, 0, 0, 0, 0, 0, 0, 0, 0, 0, 0, 1, 0, 0, 0, 0, 0, 0, 0, 0, 0, 0, 0, 0, 0, 0, 0, 0, 0, 0, 0, 0, 0, 0, 0, 0, 0, 0, 0, 0, 0, 0, 0, 0, 0, 0, 0, 0, 0, 0, 0, 0, 0, 0, 0, 0, 0, 0, 0, 0, 0, 0, 0, 0, 0, 0, 0, 0, 0, 0, 0, 0, 0, 0, 0, 0, 0, 0, 0, 0, 0, 0, 0, 0, 0, 0, 0, 0, 0, 0, 0, 0, 0, 0, 0, 0, 0, 0, 0, 0, 0, 0, 0, 0, 0, 0, 0, 0, 0, 0, 0, 0, 0, 0, 0, 0, 0, 0, 0, 0, 0, 0, 0, 0, 0, 0, 0, 0, 0, 0, 0, 0, 0, 0, 0, 0, 0, 0, 0, 0, 0, 0, 0, 0, 0, 0, 0, 0, 0, 0, 0, 0, 0, 0, 0, 0, 0, 0, 0, 0, 0, 0, 0, 0, 0, 0, 0, 0, 0, 0, 0, 0, 0, 0, 0, 0, 0, 0, 0, 1, 0, 0, 0, 0, 0, 0, 0, 0, 0, 0, 0, 0, 0, 0, 0, 0, 0, 0, 0, 0, 0, 0, 0, 0, 0, 0, 0, 0, 0, 0, 0, 0, 0, 0, 0, 0, 0, 0, 0, 0, 0, 0, 0, 0, 0, 0, 0, 0, 0, 0, 0, 0, 0, 0, 0, 0, 0, 0, 0, 0, 0, 0, 0, 0, 0, 0, 0, 0, 0]\n",
      "Personen gesamt: 500\n",
      "berechtigt und durchgelassen:  3\n",
      "durchgelassen gesamt:  10\n"
     ]
    }
   ],
   "source": [
    "def personBerechtigt():\n",
    "    Person = [] #Speicher\n",
    "    for i in range(500):\n",
    "        if i < 3:\n",
    "            Person.append(1)\n",
    "        else:\n",
    "            Person.append(0)\n",
    "            \n",
    "        np.random.shuffle(Person)\n",
    "    return Person\n",
    "\n",
    "personenListe=personBerechtigt()\n",
    "print(personenListe)\n",
    "\n",
    "\n",
    "def personDurchgelassen(list):\n",
    "    durchlassen=[\"durchgelassen\",\"nicht durchgelassen\"]\n",
    "    countBandD=0\n",
    "    countD=0\n",
    "    countNandN=0\n",
    "    \n",
    "    for i in range(500):\n",
    "        if list[i]==1:\n",
    "            decision=rng.choice(durchlassen, p=[0.95, 0.05])\n",
    "            #print(\"Person \", i+1, \"wurde \", decision)\n",
    "            if(decision==\"durchgelassen\"):\n",
    "                countBandD+=1\n",
    "\n",
    "        else:\n",
    "            decision=rng.choice(durchlassen, p=[0.01, 0.99])\n",
    "            #print(\"Person \", i+1, \"wurde \", decision)\n",
    "            if(decision==\"durchgelassen\"):\n",
    "                countD +=1\n",
    "            else:\n",
    "                countNandN +=1\n",
    "            \n",
    "    print(\"Personen gesamt: 500\")\n",
    "    print(\"berechtigt und durchgelassen: \", countBandD)\n",
    "    print(\"durchgelassen gesamt: \", countD+countBandD)\n",
    "\n",
    "personDurchgelassen(personenListe)"
   ]
  },
  {
   "cell_type": "markdown",
   "id": "045d6ec4",
   "metadata": {},
   "source": [
    "Übung 10: Aufgaben mit Hilfe eines Schätzers lösen\n",
    "Übung 10 (H):\n",
    "Gegeben ist eine diskrete Gleichverteilung mit Wertebereich WX = {1, 2, 3, . . . ,m}, wobei gilt\n",
    "P(X = k) = 1m\n",
    "für alle k 2 WX. m wird als unbekannt angenommen. Eine n-elementige\n",
    "Realisierung einer Stichprobe x1, x2, x3, . . . , xn wird gezogen.\n",
    "\n",
    "a) Zeige, dass ˆm = 2 ¯m − 1 ein unbiased Schätzer für m ist.\n",
    "b) Auf einem Event werden Tickets mit den Zahlen 1, 2, 3, . . . verkauft. Bei einer folgenden\n",
    "Tombola werden die Ticketnummern 34, 56, 17, 22, 23, 88 gezogen. Wie viele Besucher\n",
    "waren schätzungsweise auf diesem Event? Warum ist die Verwendung des berechneten\n",
    "Schätzers nicht ganz korrekt?"
   ]
  },
  {
   "cell_type": "code",
   "execution_count": null,
   "id": "18dd00fd",
   "metadata": {},
   "outputs": [],
   "source": []
  }
 ],
 "metadata": {
  "kernelspec": {
   "display_name": "Python 3 (ipykernel)",
   "language": "python",
   "name": "python3"
  },
  "language_info": {
   "codemirror_mode": {
    "name": "ipython",
    "version": 3
   },
   "file_extension": ".py",
   "mimetype": "text/x-python",
   "name": "python",
   "nbconvert_exporter": "python",
   "pygments_lexer": "ipython3",
   "version": "3.9.7"
  }
 },
 "nbformat": 4,
 "nbformat_minor": 5
}
