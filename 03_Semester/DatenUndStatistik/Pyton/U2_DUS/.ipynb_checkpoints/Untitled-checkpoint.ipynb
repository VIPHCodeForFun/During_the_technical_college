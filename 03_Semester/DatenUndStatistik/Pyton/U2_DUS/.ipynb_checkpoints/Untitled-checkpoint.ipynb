{
 "cells": [
  {
   "cell_type": "markdown",
   "id": "f47d3ecf",
   "metadata": {},
   "source": [
    "Übung 7 - 9: Aufgaben mit Hilfe einer Simulation lösen"
   ]
  },
  {
   "cell_type": "markdown",
   "id": "8f0a1148",
   "metadata": {},
   "source": [
    "Übung 7 (P & H):\n",
    "Eine Münze wird 3 mal geworfen. Eine Person weiß, dass das Ereignis ”Kopf” in mindestens\n",
    "2 von den 3 Würfen vorkommt. Wie lautet die (bedingte) Wahrscheinlichkeit für den Fall,\n",
    "dass beim 3ten Wurf das Ereignis ”Zahl” eintritt?\n",
    "Berechne das Beispiel zunächst per Hand, danach ist ein kurzes Programm zu schreiben und\n",
    "dasselbe Bsp mit Hilfe einer Simulation zu ’überprüfen’."
   ]
  },
  {
   "cell_type": "markdown",
   "id": "60566fd6",
   "metadata": {},
   "source": [
    "1. Diese Simulation soll eine Funktion beinhalten, welche dafür sorgt dass der dreifache\n",
    "Münzwurf simuliert wird. Nenne die Funktion muenzwurf() und übergib der Funktion\n",
    "als Input die beiden Elementarereignisse, sowie die Information wie oft ein Münzwurf\n",
    "wiederholt werden soll. Für das Simulieren des Münzwurfes könnte die in der numpy\n",
    "enthaltenen Funktion choice sich als hilfreich erweisen. Außerdem ist es eventuell hilfreich\n",
    "zu wissen, dass mit dem Befehl \"def\" in Python selbstgeschriebene Funktionen\n",
    "definiert werden."
   ]
  },
  {
   "cell_type": "code",
   "execution_count": 10,
   "id": "2508436a",
   "metadata": {},
   "outputs": [
    {
     "name": "stdout",
     "output_type": "stream",
     "text": [
      "['K', 'Z', 'Z']\n"
     ]
    }
   ],
   "source": [
    "import numpy as np #lade numpy als np # muss nur ein mal erstellt werden\n",
    "rng = np.random.default_rng()    #erzeuge das Element rng aus np\n",
    "\n",
    "def muenzwurf(events, n):\n",
    "    sim = list()\n",
    "    for wurf in range(n):\n",
    "        sim.append(rng.choice(events))\n",
    "    return sim\n",
    "\n",
    "ergebnis = muenzwurf([\"K\",\"Z\"],3)\n",
    "print(ergebnis)\n",
    "    "
   ]
  },
  {
   "cell_type": "markdown",
   "id": "ff63242d",
   "metadata": {},
   "source": [
    "2. Sobald der dreifache Münzwurf durchgeführt wurde soll dieser z.B. mit Hilfe einer\n",
    "geeigneten Schleife wiederholt aufgerufen werden (z.B. bis n = 1000 Durchläufe des\n",
    "Experiments erfolgt sind). Dabei gilt es zu zählen wie oft in den n Münzwürfen das\n",
    "Ereignis zweimal ”Kopf” und einmal ”Zahl” lautet. Dies entspricht der Evaluierung\n",
    "eines Durchlaufs des Experiments. Als hilfreich könnten sich die ’if’-Abfrage und die\n",
    "Funktion append erweisen."
   ]
  },
  {
   "cell_type": "code",
   "execution_count": 217,
   "id": "0ad33be8",
   "metadata": {},
   "outputs": [
    {
     "name": "stdout",
     "output_type": "stream",
     "text": [
      "372\n"
     ]
    }
   ],
   "source": [
    "def Münzwurfexperiment(n):\n",
    "    \n",
    "    sum = 0  #|Anzahl| Zwei mal Kopf\n",
    "    for wdh in range(n):\n",
    "        ergebnis= muenzwurf([\"K\",\"Z\"], 3)\n",
    "        Kcount = 0\n",
    "\n",
    "        for i in range(3): #i = 0 bis 2\n",
    "         \n",
    "            if ergebnis[i] == \"K\":\n",
    "                Kcount = Kcount + 1\n",
    "\n",
    "        if Kcount == 2:\n",
    "            sum = sum + 1       \n",
    "            \n",
    "    print(sum)\n",
    "\n",
    "Münzwurfexperiment(1000)\n"
   ]
  },
  {
   "cell_type": "markdown",
   "id": "9ef78882",
   "metadata": {},
   "source": [
    "3. Abschließend soll gezählt werden wie oft bei den z.B. n = 1000 Durchläufen des Münzwurfs\n",
    "der Fall 3ter Wurf ”Zahl” eintritt. Diese Anzahl gilt es in Relation zu den gesamt\n",
    "durchgeführten Durchläufen zu stellen."
   ]
  },
  {
   "cell_type": "code",
   "execution_count": 274,
   "id": "07786556",
   "metadata": {},
   "outputs": [
    {
     "name": "stdout",
     "output_type": "stream",
     "text": [
      "|Ereignis|A Zwei mal Kopf : 343 von 1000 Versuchen\n",
      "|Ereignis|B Zahl am Ende  : 524 von 1000 Versuchen\n"
     ]
    }
   ],
   "source": [
    "def Münzwurfexperiment(n):\n",
    "    \n",
    "    Ksum = 0 #|Anzahl| Zwei mal Kopf\n",
    "    Zsum = 0 #|Anzahl| Zahl am Ende\n",
    "    for wdh in range(n):\n",
    "        ergebnis= muenzwurf([\"K\",\"Z\"], 3)\n",
    "        Kcount = 0\n",
    "\n",
    "        for i in range(3): #i = 0 bis 2\n",
    "         \n",
    "            if ergebnis[i] == \"K\":\n",
    "                Kcount = Kcount + 1\n",
    "                \n",
    "        if Kcount == 2:\n",
    "            Ksum = Ksum + 1       \n",
    "        if ergebnis[2] == \"Z\":\n",
    "            Zsum = Zsum + 1\n",
    "    print(\"|Ereignis|A Zwei mal Kopf :\",Ksum , \"von\",n ,\"Versuchen\")\n",
    "    print(\"|Ereignis|B Zahl am Ende  :\",Zsum , \"von\",n ,\"Versuchen\")\n",
    "\n",
    "Münzwurfexperiment(1000)\n"
   ]
  },
  {
   "cell_type": "markdown",
   "id": "bdd09405",
   "metadata": {},
   "source": [
    "Berechne Erwartungswert und Varianz durch a) analytische Berechnung gemäß der bekannten\n",
    "Definitionen und durch \n",
    "b) eine Schätzung unter zu Hilfenahme einer selbstgeschriebenen Simulation der Zufallsvariable X.\n",
    "Die durchgeführte Simulation soll auf jeden Fall für mindestens n = 2000 Durchläufe erfolgen."
   ]
  },
  {
   "cell_type": "markdown",
   "id": "61d001e5",
   "metadata": {},
   "source": [
    "1. Hilfreich erweist es sich genauer mit den Möglichkeiten der Funktion choise zu beschäftigen.\n",
    "Dies erlaubt die Erstellung der Simulation (also der Umsetzung der definierten ZV) als Einzeiler."
   ]
  },
  {
   "cell_type": "code",
   "execution_count": 450,
   "id": "fbdc37bf",
   "metadata": {},
   "outputs": [],
   "source": [
    "result = [] #Speicher\n",
    "\n",
    "n = 2000\n",
    "for i in range(n):\n",
    "    X = rng.choice([1, 2, 3],p=[0.25, 0.15, 0.6]) #X=[Mögliche Ereignise], p=[Wahrscheinlickeit]\n",
    "    result.append(X)\n"
   ]
  },
  {
   "cell_type": "markdown",
   "id": "11f4869d",
   "metadata": {},
   "source": [
    "2. Danach gilt es nur mehr die geeigneten Funktionen für Berechnung des Erwartungswerts\n",
    "und der Varianz in der numpy Bibliothek zu finden."
   ]
  },
  {
   "cell_type": "code",
   "execution_count": 451,
   "id": "08a35434",
   "metadata": {},
   "outputs": [
    {
     "name": "stdout",
     "output_type": "stream",
     "text": [
      "Erwartungswert = 2.3355\n",
      "Varianz = 0.7309397500000002\n"
     ]
    }
   ],
   "source": [
    "E = np.mean(result) #Berechnung des Erwartungswertes\n",
    "V = np.var(result)  #Berechnung der Varianz\n",
    "\n",
    "print(\"Erwartungswert =\",E)\n",
    "print(\"Varianz =\",V)\n"
   ]
  },
  {
   "cell_type": "markdown",
   "id": "70a1d09c",
   "metadata": {},
   "source": [
    "Übung 9 (P & H):\n",
    "Ein Biometrisches System zur Zugangskontrolle hat folgende Eckdaten:\n",
    "Das System erkennt eine berechtigte Person in 95 von 100 Fällen richtig, allerdings wird eine unberechtigte Person\n",
    "in 1 von 100 Fällen trotzdem durchgelassen. Das System soll in einer Firma mit 500 Mitarbeitern verwendet werden um den Zugang zum Serverraum zu überwachen, in den nur 3 Personen eintreten dürfen. Wie groß ist die Wahrscheinlichkeit dass eine durchgelassene Person auch Zutrittsberechtigt ist?\n",
    "Dieses Beispiel soll wieder auf zwei Arten berechnet werden.\n",
    "Die händische Variante haben im Vorgängerkurs bereits besprochen. \n",
    "\n",
    "Die Pythonimplementation soll nicht genau die händische Berechnung implementieren sondern mit Hilfe von zwei Funktionen simuliert werden. Ich schlage vor diese \"personBerechtigt\" und \"personDurchgelassen\" zu nennen."
   ]
  },
  {
   "cell_type": "markdown",
   "id": "48d377ed",
   "metadata": {},
   "source": [
    "1. \"personBerechtigt\" \n",
    "soll unter der Verwendung der schon bekannten uniform Funktion als Ergebnis nur zurückliefern ob eine Person berechtigt ist oder nicht.\n",
    "2. \n",
    "Ich würde dann eine leeres Array initialisieren und mit Hilfe von append das Ergebnis von \"personBerechtigt\" befüllen.\n",
    "3. Für jede Person in dem nun befüllten Array ist es danach notwendig zu evaluieren ob die\n",
    "Personen auch tatsächlich durchgelassen wurde. Da hilft die Funktion \"personDurchgelassen\",\n",
    "welche sich wieder uniform und eine if-Abfrage zu Nutzen machen kann, um zu\n",
    "simulieren ob eine Personen durchgelassen wurde oder nicht.\n",
    "4. Abschließend gilt es noch diejenigen Personen zu finden die sowohl berechtigt waren\n",
    "und auch durchgelassen wurden. Deren Anzahl gilt es jenen gegenüberzustellen, die\n",
    "überhaupt durchgelassen worden sind."
   ]
  },
  {
   "cell_type": "code",
   "execution_count": 510,
   "id": "259593a5",
   "metadata": {},
   "outputs": [
    {
     "ename": "IndentationError",
     "evalue": "expected an indented block (Temp/ipykernel_6568/1653448675.py, line 31)",
     "output_type": "error",
     "traceback": [
      "\u001b[1;36m  File \u001b[1;32m\"C:\\Users\\phili\\AppData\\Local\\Temp/ipykernel_6568/1653448675.py\"\u001b[1;36m, line \u001b[1;32m31\u001b[0m\n\u001b[1;33m    \u001b[0m\n\u001b[1;37m    ^\u001b[0m\n\u001b[1;31mIndentationError\u001b[0m\u001b[1;31m:\u001b[0m expected an indented block\n"
     ]
    }
   ],
   "source": [
    "#array an personen die berechtigt sind\n",
    "Person = [] #Speicher Personen Zugang = 1 OK 0 = nicht OK\n",
    "for i in range(500):\n",
    "    if i < 3:\n",
    "        Person.append(1)\n",
    "    else:\n",
    "        Person.append(0)\n",
    "#np.random.shuffle(Person)  # shuffelt Die Lsite\n",
    "\n",
    "def personBerechtigt(Person):\n",
    "    result = 0\n",
    "    if Person >= 1: \n",
    "        return 1 #berechtigt\n",
    "    else:           \n",
    "        return 0 #nicht berechtigt\n",
    "\n",
    "def personDurchgelassen(Person):\n",
    "    rngP = rng.uniform(1,100,1) # 100 Randomwerte zwischen 1 und 25 \n",
    "    print(rngP)\n",
    "    if rng > 95:\n",
    "        return 1 #richtig\n",
    "    else:\n",
    "        return 0 #nicht richtig\n",
    "    \n",
    "#print(Person)\n",
    "BerechtigtUDurchgelassen = 0\n",
    "Durchgelassen = 0\n",
    "\n",
    "for i in range(500):\n",
    "    x = personBerechtigt(Person[i])\n",
    "    y = personDurchgelassen(Person[i])\n",
    "    if x == 1 and y == 1:\n",
    "       BerechtigtUDurchgelassen = BerechtigtUDurchgelassen + 1 \n",
    "        \n",
    "    \n"
   ]
  },
  {
   "cell_type": "code",
   "execution_count": null,
   "id": "e545aafc",
   "metadata": {},
   "outputs": [],
   "source": []
  }
 ],
 "metadata": {
  "kernelspec": {
   "display_name": "Python 3 (ipykernel)",
   "language": "python",
   "name": "python3"
  },
  "language_info": {
   "codemirror_mode": {
    "name": "ipython",
    "version": 3
   },
   "file_extension": ".py",
   "mimetype": "text/x-python",
   "name": "python",
   "nbconvert_exporter": "python",
   "pygments_lexer": "ipython3",
   "version": "3.9.7"
  }
 },
 "nbformat": 4,
 "nbformat_minor": 5
}
