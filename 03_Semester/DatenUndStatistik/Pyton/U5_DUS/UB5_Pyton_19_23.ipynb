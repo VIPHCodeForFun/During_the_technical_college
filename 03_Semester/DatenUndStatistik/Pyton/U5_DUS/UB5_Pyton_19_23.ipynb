{
 "cells": [
  {
   "cell_type": "code",
   "execution_count": 1,
   "id": "094ebdc3",
   "metadata": {},
   "outputs": [],
   "source": [
    "import numpy as np \n",
    "import matplotlib.pyplot as plt\n",
    "import pandas as pd\n",
    "import scipy.stats as st\n",
    "import csv\n",
    "import statistics \n",
    "\n",
    "rng = np.random.default_rng() "
   ]
  },
  {
   "cell_type": "markdown",
   "id": "25130bb4",
   "metadata": {},
   "source": [
    "Übung_19: Lese den Datensatz lebensdauer_big in ein Pythonprogramm ein. Berechne anschließend Mittelwert, Median, Standardabweichung, Quartile, und Quartilsabstand (mean, median, std, 1 percentile). Erzeuge weiters ein Histogramm und einen Boxplot der Daten (hist, boxplot). Hinweis: Der Datensatz beschreibt die Lebensdauer von Glühbirnen in Jahren. Interpretieren\n",
    "die Resultate und erkläre diese dann in der nächsten UE-Einheit."
   ]
  },
  {
   "cell_type": "code",
   "execution_count": 2,
   "id": "79de77b3",
   "metadata": {},
   "outputs": [],
   "source": [
    "from numpy import loadtxt\n",
    "\n",
    "daten = loadtxt(\"lebensdauer_big.txt\", delimiter=\",\")\n",
    "#for line in lines:\n",
    "    #print(line)"
   ]
  },
  {
   "cell_type": "code",
   "execution_count": 1,
   "id": "02ee7a26",
   "metadata": {},
   "outputs": [
    {
     "name": "stdout",
     "output_type": "stream",
     "text": [
      "Aritmetische Mittel der Stichproben:  {1, 2, 3, 4, 5, 6}\n"
     ]
    },
    {
     "ename": "NameError",
     "evalue": "name 'np' is not defined",
     "output_type": "error",
     "traceback": [
      "\u001b[1;31m---------------------------------------------------------------------------\u001b[0m",
      "\u001b[1;31mNameError\u001b[0m                                 Traceback (most recent call last)",
      "\u001b[1;32m~\\AppData\\Local\\Temp/ipykernel_5840/1728244307.py\u001b[0m in \u001b[0;36m<module>\u001b[1;34m\u001b[0m\n\u001b[0;32m      2\u001b[0m \u001b[0mprint\u001b[0m\u001b[1;33m(\u001b[0m\u001b[1;34m\"Aritmetische Mittel der Stichproben: \"\u001b[0m\u001b[1;33m,\u001b[0m \u001b[0maMittel\u001b[0m\u001b[1;33m)\u001b[0m\u001b[1;33m\u001b[0m\u001b[1;33m\u001b[0m\u001b[0m\n\u001b[0;32m      3\u001b[0m \u001b[1;33m\u001b[0m\u001b[0m\n\u001b[1;32m----> 4\u001b[1;33m \u001b[0mMedian\u001b[0m \u001b[1;33m=\u001b[0m \u001b[0mnp\u001b[0m\u001b[1;33m.\u001b[0m\u001b[0mmedian\u001b[0m\u001b[1;33m(\u001b[0m\u001b[0mdaten\u001b[0m\u001b[1;33m)\u001b[0m\u001b[1;33m\u001b[0m\u001b[1;33m\u001b[0m\u001b[0m\n\u001b[0m\u001b[0;32m      5\u001b[0m \u001b[0mprint\u001b[0m\u001b[1;33m(\u001b[0m\u001b[1;34m\"Median der Stichproben: \"\u001b[0m\u001b[1;33m,\u001b[0m \u001b[0mMedian\u001b[0m\u001b[1;33m)\u001b[0m\u001b[1;33m\u001b[0m\u001b[1;33m\u001b[0m\u001b[0m\n\u001b[0;32m      6\u001b[0m \u001b[1;33m\u001b[0m\u001b[0m\n",
      "\u001b[1;31mNameError\u001b[0m: name 'np' is not defined"
     ]
    }
   ],
   "source": [
    "aMittel = np.mean()\n",
    "print(\"Aritmetische Mittel der Stichproben: \", aMittel)\n",
    "\n",
    "Median = np.median(daten)\n",
    "print(\"Median der Stichproben: \", Median)\n",
    "\n",
    "sAbweichung = np.std(daten)\n",
    "print(\"Standardabweichung der Stichproben: \", sAbweichung)\n",
    "\n",
    "Q1 = np.percentile(daten, 25)\n",
    "print(\"Q1 der Stichproben: \", Q1)\n",
    "\n",
    "Q2 = np.percentile(daten, 50)\n",
    "print(\"Median der Stichproben: \", Q2)\n",
    "\n",
    "Q3 = np.percentile(daten, 75) \n",
    "print(\"Q3 der Stichproben: \", Q3)"
   ]
  },
  {
   "cell_type": "code",
   "execution_count": 4,
   "id": "d58a0d71",
   "metadata": {},
   "outputs": [
    {
     "data": {
      "image/png": "[encoded data removed]",
      "text/plain": [
       "<Figure size 432x288 with 1 Axes>"
      ]
     },
     "metadata": {
      "needs_background": "light"
     },
     "output_type": "display_data"
    }
   ],
   "source": [
    "plt.hist(daten)\n",
    "plt.title(\"Lebensdauer von Glühbirnen\")\n",
    "plt.xlabel(\"Lebendauer in Jahren\")\n",
    "plt.ylabel(\"Häufigkeit\")\n",
    "plt.show()"
   ]
  },
  {
   "cell_type": "code",
   "execution_count": 5,
   "id": "1830121f",
   "metadata": {},
   "outputs": [
    {
     "data": {
      "image/png": "[encoded data removed]",
      "text/plain": [
       "<Figure size 432x288 with 1 Axes>"
      ]
     },
     "metadata": {
      "needs_background": "light"
     },
     "output_type": "display_data"
    }
   ],
   "source": [
    "plt.boxplot(daten)\n",
    "plt.title(\"Lebensdauer von Glühbirnen\")\n",
    "plt.ylabel(\"Lebendauer in Jahren\")\n",
    "plt.show()"
   ]
  },
  {
   "cell_type": "markdown",
   "id": "16efa50e",
   "metadata": {},
   "source": [
    "Übung_20: Importieren Sie die Matrix data1 und erzeuge ein Histogramm bezüglich der einzelnen Daten-Spalten. Experimentiere mit verschiedenen Klasseneinteilungen (= zusammengefasste Wertebereiche). Erstelle mit den Ergebnissen eine kurze textliche Beschreibung der Daten, wobei die wichtigsten Lage- und Streuungsparameter hilfreich sein könnten."
   ]
  },
  {
   "cell_type": "code",
   "execution_count": 7,
   "id": "86f871c7",
   "metadata": {},
   "outputs": [],
   "source": [
    "rdata = [line.strip().split() for line in open(\"data1.txt\")]\n",
    "data = np.array(rdata, dtype=np.float32)\n",
    "            \n",
    "S1 = []\n",
    "S2 = []\n",
    "S3 = []\n",
    "S4 = []\n",
    "    \n",
    "for i in range(0,len(data)):\n",
    "    Spalte1 =  data[i][0] # erste Spalte\n",
    "    Spalte2 = data[i][1]\n",
    "    Spalte3 = data[i][2]\n",
    "    Spalte4 = data[i][3]\n",
    "    S1.append(Spalte1)\n",
    "    S2.append(Spalte2)\n",
    "    S3.append(Spalte3)\n",
    "    S4.append(Spalte4)\n",
    "    \n",
    "#print(S1)\n",
    "#print(S2)\n",
    "#print(S3)\n",
    "#print(S4)\n",
    "    \n",
    "S1 = sorted(S1)\n",
    "S2 = sorted(S2)\n",
    "S3 = sorted(S3)\n",
    "S4 = sorted(S4)\n",
    "\n",
    "#print(S1)\n",
    "#print(S2)\n",
    "#print(S3)\n",
    "#print(S4)"
   ]
  },
  {
   "cell_type": "code",
   "execution_count": null,
   "id": "ed39170f",
   "metadata": {},
   "outputs": [],
   "source": [
    "plt.boxplot(S1)\n",
    "plt.title(\"Spalte 1\")\n",
    "plt.show()\n",
    "\n",
    "aMittel = np.mean(S1)\n",
    "print(\"Aritmetische Mittel der Stichproben: \", aMittel)\n",
    "sAbweichung = np.std(S1)\n",
    "print(\"Standardabweichung der Stichproben: \", sAbweichung)\n",
    "Q1 = np.percentile(S1, 25)\n",
    "print(\"Q1 der Stichproben: \", Q1)\n",
    "Median = np.median(S1)\n",
    "print(\"Median der Stichproben: \", Median)\n",
    "Q3 = np.percentile(S1, 75) \n",
    "print(\"Q3 der Stichproben: \", Q3)\n",
    "\n",
    "plt.boxplot(S2)\n",
    "plt.title(\"Spalte 2\")\n",
    "plt.show()\n",
    "\n",
    "aMittel = np.mean(S2)\n",
    "print(\"Aritmetische Mittel der Stichproben: \", aMittel)\n",
    "sAbweichung = np.std(S2)\n",
    "print(\"Standardabweichung der Stichproben: \", sAbweichung)\n",
    "Q1 = np.percentile(S2, 25)\n",
    "print(\"Q1 der Stichproben: \", Q1)\n",
    "Median = np.median(S2)\n",
    "print(\"Median der Stichproben: \", Median)\n",
    "Q3 = np.percentile(S2, 75) \n",
    "print(\"Q3 der Stichproben: \", Q3)\n",
    "\n",
    "plt.boxplot(S3)\n",
    "plt.title(\"Spalte 3\")\n",
    "plt.show()\n",
    "\n",
    "aMittel = np.mean(S3)\n",
    "print(\"Aritmetische Mittel der Stichproben: \", aMittel)\n",
    "sAbweichung = np.std(S3)\n",
    "print(\"Standardabweichung der Stichproben: \", sAbweichung)\n",
    "Q1 = np.percentile(S3, 25)\n",
    "print(\"Q1 der Stichproben: \", Q1)\n",
    "Median = np.median(S3)\n",
    "print(\"Median der Stichproben: \", Median)\n",
    "Q3 = np.percentile(S3, 75) \n",
    "print(\"Q3 der Stichproben: \", Q3)\n",
    "\n",
    "plt.boxplot(S4)\n",
    "plt.title(\"Spalte 4\")\n",
    "plt.show()\n",
    "\n",
    "aMittel = np.mean(S4)\n",
    "print(\"Aritmetische Mittel der Stichproben: \", aMittel)\n",
    "sAbweichung = np.std(S4)\n",
    "print(\"Standardabweichung der Stichproben: \", sAbweichung)\n",
    "Q1 = np.percentile(S4, 25)\n",
    "print(\"Q1 der Stichproben: \", Q1)\n",
    "Median = np.median(S4)\n",
    "print(\"Median der Stichproben: \", Median)\n",
    "Q3 = np.percentile(S4, 75) \n",
    "print(\"Q3 der Stichproben: \", Q3)"
   ]
  },
  {
   "cell_type": "code",
   "execution_count": null,
   "id": "8f5328b7",
   "metadata": {},
   "outputs": [],
   "source": [
    "Übung_23: In der Datei mutterTochterGroessen finden Sie die Körpergrößen von Müttern und ihren Töchtern. Dabei repräsentiert \n",
    "jede Zeile ein Mutter-Tochter-Paar: die erste Zahl ist die\n",
    "Körpergröße der Mutter, die zweite Zahl die Größe der Tochter, jeweils in cm. Lade die Daten und erstellen Sie jeweils ein \n",
    "Histogramm für die Größen der Mütter und die der Töchter. Kann man Unterschiede zwischen den verschiedenen Teildaten \n",
    "feststellen? Beziehungsweise welche Lage- und Streuungsparameter können sich als hilfreich bei der Beschreibung von \n",
    "eventuell vorhandener Unterschiede erweisen?"
   ]
  },
  {
   "cell_type": "code",
   "execution_count": null,
   "id": "07540db9",
   "metadata": {},
   "outputs": [],
   "source": [
    "Mutter = pd.read_csv(\"mutterTochterGroessen.csv\",sep=\",\",usecols=[0])\n",
    "print(Mutter)\n",
    "Mutter = np.array(Mutter, dtype=np.float32)\n",
    "#print(Mutter)\n",
    "\n",
    "Tochter = pd.read_csv(\"mutterTochterGroessen.csv\",sep=\",\",usecols=[1])\n",
    "print(Tochter)\n",
    "Tochter = np.array(Tochter, dtype=np.float32)\n",
    "#print(Tochter)"
   ]
  },
  {
   "cell_type": "raw",
   "id": "11305120",
   "metadata": {},
   "source": [
    "Mutter = np.sort(Mutter)\n",
    "Tochter = np.sort(Tochter)\n",
    "\n",
    "print(Mutter)\n",
    "print(Tochter)"
   ]
  },
  {
   "cell_type": "code",
   "execution_count": null,
   "id": "84b64f8c",
   "metadata": {},
   "outputs": [],
   "source": [
    "plt.hist(Mutter)\n",
    "plt.title(\"Grösse der Mütter\")\n",
    "plt.xlabel(\"Körpergrösse in cm\")\n",
    "plt.ylabel(\"Häufigkeit\")\n",
    "plt.show()\n",
    "\n",
    "aMittel = np.mean(Mutter)\n",
    "print(\"Aritmetische Mittel der Stichproben: \", aMittel)\n",
    "sAbweichung = np.std(Mutter)\n",
    "print(\"Standardabweichung der Stichproben: \", sAbweichung)\n",
    "Q1 = np.percentile(Mutter, 25)\n",
    "print(\"Q1 der Stichproben: \", Q1)\n",
    "Median = np.median(Mutter)\n",
    "print(\"Median der Stichproben: \", Median)\n",
    "Q3 = np.percentile(Mutter, 75) \n",
    "print(\"Q3 der Stichproben: \", Q3)\n",
    "\n",
    "plt.hist(Tochter)\n",
    "plt.title(\"Grösse der Töchter\")\n",
    "plt.xlabel(\"Körpergrösse in cm\")\n",
    "plt.ylabel(\"Häufigkeit\")\n",
    "plt.show()\n",
    "\n",
    "aMittel = np.mean(Tochter)\n",
    "print(\"Aritmetische Mittel der Stichproben: \", aMittel)\n",
    "sAbweichung = np.std(Tochter)\n",
    "print(\"Standardabweichung der Stichproben: \", sAbweichung)\n",
    "Q1 = np.percentile(Tochter, 25)\n",
    "print(\"Q1 der Stichproben: \", Q1)\n",
    "Median = np.median(Tochter)\n",
    "print(\"Median der Stichproben: \", Median)\n",
    "Q3 = np.percentile(Tochter, 75) \n",
    "print(\"Q3 der Stichproben: \", Q3)"
   ]
  },
  {
   "cell_type": "code",
   "execution_count": 9,
   "id": "3d048617",
   "metadata": {},
   "outputs": [
    {
     "name": "stdout",
     "output_type": "stream",
     "text": [
      "Median der Stichproben:  4.333333333333333\n",
      "Median der Stichproben:  5.0\n",
      "Standardabweichung der Stichproben:  1.8257418583505538\n"
     ]
    }
   ],
   "source": [
    "import numpy as np \n",
    "import matplotlib.pyplot as plt\n",
    "import pandas as pd\n",
    "import scipy.stats as st\n",
    "import csv\n",
    "import statistics \n",
    "\n",
    "rng = np.random.default_rng() \n",
    "\n",
    "x = [1, 2, 3, 4, 5, 6, 6, 6, 6]\n",
    "\n",
    "mean = np.mean(x)\n",
    "print(\"Median der Stichproben: \" , mean)\n",
    "\n",
    "Median = np.median(x)\n",
    "print(\"Median der Stichproben: \" , Median)\n",
    "\n",
    "sAbweichung = np.std(x)\n",
    "print(\"Standardabweichung der Stichproben: \", sAbweichung)\n",
    "\n"
   ]
  },
  {
   "cell_type": "code",
   "execution_count": 10,
   "id": "d4a5b013",
   "metadata": {},
   "outputs": [
    {
     "name": "stdout",
     "output_type": "stream",
     "text": [
      "0.2415801993696159\n"
     ]
    },
    {
     "data": {
      "image/png": "[encoded data removed]",
      "text/plain": [
       "<Figure size 432x288 with 1 Axes>"
      ]
     },
     "metadata": {
      "needs_background": "light"
     },
     "output_type": "display_data"
    }
   ],
   "source": [
    "import matplotlib.pyplot as plt\n",
    "import numpy as np\n",
    "\n",
    "x = [5, 10, 15, 20, 25, 30, 21, 24, 27, 30, 11, 14]\n",
    "y =  [4, 7, 9, 11, 25, 32, 37, 47, 53, 63, 76, 84]\n",
    "\n",
    "    \n",
    "\n",
    "fig, axs = plt.subplots(1, 1, sharex=True, sharey=True)\n",
    "\n",
    "#m, b = np.polyfit(x, y, 1)\n",
    "r = np.corrcoef(x, y)\n",
    "axs.scatter(x, y, marker='o')\n",
    "#axs.plot(x, m*x+b, c=\"red\")\n",
    "\n",
    "print(abs(r[0, 1]))"
   ]
  },
  {
   "cell_type": "code",
   "execution_count": null,
   "id": "9d4179d7",
   "metadata": {},
   "outputs": [],
   "source": []
  }
 ],
 "metadata": {
  "kernelspec": {
   "display_name": "Python 3 (ipykernel)",
   "language": "python",
   "name": "python3"
  },
  "language_info": {
   "codemirror_mode": {
    "name": "ipython",
    "version": 3
   },
   "file_extension": ".py",
   "mimetype": "text/x-python",
   "name": "python",
   "nbconvert_exporter": "python",
   "pygments_lexer": "ipython3",
   "version": "3.9.7"
  }
 },
 "nbformat": 4,
 "nbformat_minor": 5
}
