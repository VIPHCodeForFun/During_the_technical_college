{
 "cells": [
  {
   "cell_type": "markdown",
   "id": "ec39b463",
   "metadata": {},
   "source": [
    "# Übung 25\n",
    "\n",
    "Eine Erhebung über die Anzahl von Maschinenstörungen pro Tag ergab folgende Ergebnisse:\n",
    "Maschinenstörungen pro Tag\n",
    "\n",
    "Störungen 0 1 2 4 5 6 8 10\n",
    "\n",
    "Tage 20 40 20 10 15 5 8 2\n",
    "\n",
    "1. Bestimme die empirische Häufigkeitsfunktion f sowie die empirische Verteilungsfunktion F und stelle diese graphisch dar. Achtung: Die Daten liegen nicht im Original vor sondern bereits als Häufigkeitstabelle! Der Originaldatensatz ist (bis auf die Reihenfolge) daraus rekonstruierbar! Wie kann der Orginaldatensatz mathematisch angeschrieben werden?\n",
    "2. Gesucht ist der Anteil der Tage mit a) höchstens 4 Störfällen, b) mehr als 7 Störfällen, c) mindestens 7 Störfällen, d) mehr als 4, aber höchstens 7 Störfällen?\n",
    "3. Berechne das arithmetische Mittel, den Median, die Varianz sowie die Standardabweichung für die tägliche Anzahl der Störfälle."
   ]
  },
  {
   "cell_type": "code",
   "execution_count": 36,
   "id": "4ec419de",
   "metadata": {},
   "outputs": [
    {
     "name": "stdout",
     "output_type": "stream",
     "text": [
      "Höchstens 4 Störfällen:  90\n",
      "Mehr als 7 Störfällen:  10\n",
      "Mindestens 7 Störfällen:  10\n",
      "Mehr als 4, aber höchstens 7 Störfällen:  20\n",
      "Arith. Mittel:  2.575\n",
      "Median:  1.5\n",
      "Varianz:  6.261041666666667\n",
      "Standardabweichung:  2.502207358846718\n"
     ]
    },
    {
     "data": {
      "image/png": "[encoded data removed]",
      "text/plain": [
       "<Figure size 432x288 with 1 Axes>"
      ]
     },
     "metadata": {
      "needs_background": "light"
     },
     "output_type": "display_data"
    }
   ],
   "source": [
    "import pandas as pd   \n",
    "import numpy as np\n",
    "import matplotlib.pyplot as plt\n",
    "\n",
    "def getItems(lst, condition):\n",
    "    return [elem for i, elem in enumerate(lst) if condition(elem)]\n",
    "\n",
    "\n",
    "tage = [20, 40, 20, 10, 15, 5, 8, 2]\n",
    "alarme = [0, 1, 2, 4, 5, 6, 8, 10]\n",
    "\n",
    "data = list()\n",
    "\n",
    "for i in range(0, len(tage)):\n",
    "    for amount in range(0, tage[i]):\n",
    "        data.append(alarme[i])\n",
    "\n",
    "a = getItems(data, lambda e: e <= 4)\n",
    "b = getItems(data, lambda e: e > 7)\n",
    "c = getItems(data, lambda e: e >= 7)\n",
    "d = getItems(data, lambda e: e > 4 and e <= 7)\n",
    "\n",
    "print(\"Höchstens 4 Störfällen: \", len(a))\n",
    "print(\"Mehr als 7 Störfällen: \", len(b))\n",
    "print(\"Mindestens 7 Störfällen: \", len(c))\n",
    "print(\"Mehr als 4, aber höchstens 7 Störfällen: \", len(d))\n",
    "print(\"Arith. Mittel: \", np.mean(data))\n",
    "print(\"Median: \", np.median(data))\n",
    "print(\"Varianz: \", np.var(data))\n",
    "print(\"Standardabweichung: \", np.std(data))\n",
    "\n",
    "df = pd.DataFrame(data, columns=[\"Störungen\"]) \n",
    "\n",
    "ax = df.plot.hist()"
   ]
  },
  {
   "cell_type": "code",
   "execution_count": null,
   "id": "249c138b",
   "metadata": {},
   "outputs": [],
   "source": []
  }
 ],
 "metadata": {
  "kernelspec": {
   "display_name": "Python 3 (ipykernel)",
   "language": "python",
   "name": "python3"
  },
  "language_info": {
   "codemirror_mode": {
    "name": "ipython",
    "version": 3
   },
   "file_extension": ".py",
   "mimetype": "text/x-python",
   "name": "python",
   "nbconvert_exporter": "python",
   "pygments_lexer": "ipython3",
   "version": "3.9.7"
  }
 },
 "nbformat": 4,
 "nbformat_minor": 5
}
