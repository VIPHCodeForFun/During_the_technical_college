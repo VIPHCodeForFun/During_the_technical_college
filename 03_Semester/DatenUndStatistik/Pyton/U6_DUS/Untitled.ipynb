{
 "cells": [
  {
   "cell_type": "code",
   "execution_count": 1,
   "id": "81010ca8",
   "metadata": {},
   "outputs": [
    {
     "name": "stdout",
     "output_type": "stream",
     "text": [
      "    koerpergroesse  schuhgroesse  notendurchschnitt  gewicht  einkommen\n",
      "0              163            37                2.1       59       2900\n",
      "1              165            38                4.0       62       1100\n",
      "2              166            40                3.6       65       1500\n",
      "3              169            42                2.4       69       2800\n",
      "4              170            40                1.6       65       4000\n",
      "5              171            41                1.1       69       5600\n",
      "6              171            40                1.9       76       2100\n",
      "7              173            41                1.7       73       5100\n",
      "8              174            42                2.0       75       3400\n",
      "9              175            40                3.1       73       1800\n",
      "10             177            42                2.8       80       2100\n",
      "11             177            39                2.7       71       2600\n",
      "12             179            42                1.4       82       4600\n",
      "13             180            43                1.6       84       3600\n",
      "14             185            44                2.9       81       2300\n"
     ]
    },
    {
     "ename": "NameError",
     "evalue": "name 'y' is not defined",
     "output_type": "error",
     "traceback": [
      "\u001b[1;31m---------------------------------------------------------------------------\u001b[0m",
      "\u001b[1;31mNameError\u001b[0m                                 Traceback (most recent call last)",
      "\u001b[1;32m~\\AppData\\Local\\Temp/ipykernel_7352/1388858358.py\u001b[0m in \u001b[0;36m<module>\u001b[1;34m\u001b[0m\n\u001b[0;32m     11\u001b[0m \u001b[1;33m\u001b[0m\u001b[0m\n\u001b[0;32m     12\u001b[0m \u001b[0mmodel\u001b[0m \u001b[1;33m=\u001b[0m \u001b[0mLinearRegression\u001b[0m\u001b[1;33m(\u001b[0m\u001b[1;33m)\u001b[0m\u001b[1;33m\u001b[0m\u001b[1;33m\u001b[0m\u001b[0m\n\u001b[1;32m---> 13\u001b[1;33m \u001b[0mmodel\u001b[0m\u001b[1;33m.\u001b[0m\u001b[0mfit\u001b[0m\u001b[1;33m(\u001b[0m\u001b[1;36m1\u001b[0m\u001b[1;33m,\u001b[0m \u001b[0my\u001b[0m\u001b[1;33m)\u001b[0m\u001b[1;33m\u001b[0m\u001b[1;33m\u001b[0m\u001b[0m\n\u001b[0m\u001b[0;32m     14\u001b[0m \u001b[1;33m\u001b[0m\u001b[0m\n\u001b[0;32m     15\u001b[0m \u001b[1;33m\u001b[0m\u001b[0m\n",
      "\u001b[1;31mNameError\u001b[0m: name 'y' is not defined"
     ]
    }
   ],
   "source": [
    "import numpy as np \n",
    "import matplotlib.pyplot as plt\n",
    "import pandas as pd\n",
    "import scipy.stats as st\n",
    "import csv\n",
    "import statistics \n",
    "from sklearn.linear_model import LinearRegression\n",
    "\n",
    "df = pd.read_excel(\"regression.xlsx\")\n",
    "print(df)\n",
    "\n",
    "model = LinearRegression()\n",
    "model.fit(1, y)\n",
    "\n",
    "\n"
   ]
  },
  {
   "cell_type": "code",
   "execution_count": null,
   "id": "af71b8af",
   "metadata": {},
   "outputs": [],
   "source": [
    "ALPHABET = ascii_lowercase\n",
    "ALPHABET_SIZE = 26\n",
    "LETTER_FREQUENCY = [\n",
    "    'a':8.167,\n",
    "    'b':1.492,\n",
    "    'c':2.782,\n",
    "    'd':4.253,\n",
    "    'e':12.702,\n",
    "    'f':2.228,\n",
    "    'g':2.015,\n",
    "    'h':6.094,\n",
    "    'i':6.966,\n",
    "    'j':0.153, \n",
    "    'k':0.772, \n",
    "    'l':4.025, \n",
    "    'm':2.406,\n",
    "    'n':6.749,\n",
    "    'o':7.507,\n",
    "    'p':1.929,\n",
    "    'q':0.095, \n",
    "    'r':5.987, \n",
    "    's':6.327, \n",
    "    't':9.056, \n",
    "    'u':2.758, \n",
    "    'v':0.978, \n",
    "    'w':2.360, \n",
    "    'x':0.150, \n",
    "    'y':1.974, \n",
    "    'z':0.074]\n",
    "\n",
    "def difference(text: str) -> float:\n",
    "        counter = Counter(text)\n",
    "        return sum([abs(counter.get(letter,0) * 100 / len(text) - LETTER_FREQUENCY[letter]) for letter in ALPHABET])"
   ]
  },
  {
   "cell_type": "code",
   "execution_count": null,
   "id": "7f9897ed",
   "metadata": {},
   "outputs": [],
   "source": []
  }
 ],
 "metadata": {
  "kernelspec": {
   "display_name": "Python 3 (ipykernel)",
   "language": "python",
   "name": "python3"
  },
  "language_info": {
   "codemirror_mode": {
    "name": "ipython",
    "version": 3
   },
   "file_extension": ".py",
   "mimetype": "text/x-python",
   "name": "python",
   "nbconvert_exporter": "python",
   "pygments_lexer": "ipython3",
   "version": "3.9.7"
  }
 },
 "nbformat": 4,
 "nbformat_minor": 5
}
