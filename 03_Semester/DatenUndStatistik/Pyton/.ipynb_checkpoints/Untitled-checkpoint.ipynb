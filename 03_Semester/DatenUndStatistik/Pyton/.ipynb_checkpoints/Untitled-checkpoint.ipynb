{
 "cells": [
  {
   "cell_type": "markdown",
   "id": "9bb0fea8",
   "metadata": {},
   "source": [
    "1) Sei X eine Zufallsvariable, welche die Längen der verschiedenen Stützen einer Seilbahn in Metern angibt. Bei einer zufällig gewählten Stichprobe werden die folgenden 8 der vorhandenen 12 Stützen nach ihrer Verbauung im Gelände zu Sicherheit vermessen: 19.9, 18.17, 15.01, 13.04, 11.1, 10.83, 14.99, 16.96\n",
    "Gib einen geeigneten Schätzer für den Erwartungswert dieser Zufallsvariable an. Als Antwort ist nur eine Zahl zugelassen, die direkt eingegeben werden muss!\n",
    "\n",
    "2) Schreibe ein kurzes Programm welches eine Zufallsvariable simuliert, die Stützen einer Seilbahn in Metern angibt (die Stützenlänge sollen sich im Bereich von 5 - 20 m befinden). Berechne mit Hilfe von Python einen geeigneten Punkt- sowie Intervallschätzer für die zu erwartende Laufzeit eines Sprinters. Wähle dazu einge geeignete Anzahl an Simulationsdurchläufen. Das Program soll lokal auf eurem Rechner implementiert werden und muss vor Ablauf der Zeit über einen Link im Moodle abgegeben werden."
   ]
  },
  {
   "cell_type": "code",
   "execution_count": 7,
   "id": "7b9b8224",
   "metadata": {},
   "outputs": [
    {
     "name": "stdout",
     "output_type": "stream",
     "text": [
      "12.542440527876273\n",
      "(11.702768540164122, 13.382112515588425)\n"
     ]
    }
   ],
   "source": [
    "import numpy as np\n",
    "from scipy import stats\n",
    "\n",
    "#1) Summe/anzahl = (19.9+ 18.17+ 15.01+ 13.04+ 11.1+ 10.83+ 14.99+ 16.96 )/ 8 = 15\n",
    "#2)\n",
    "stuezen = np.random.uniform(low=5, high=20, size=100) #randomwerte\n",
    "mean = np.mean(stuezen) #calculate mean/average\n",
    "KI = stats.norm.interval(0.95, loc=mean, scale=stats.sem(stuezen)) #calculate interval\n",
    "\n",
    "print(mean)\n",
    "print(KI)"
   ]
  },
  {
   "cell_type": "code",
   "execution_count": null,
   "id": "4dadb8d0",
   "metadata": {},
   "outputs": [],
   "source": []
  },
  {
   "cell_type": "code",
   "execution_count": null,
   "id": "8b3823fe",
   "metadata": {},
   "outputs": [],
   "source": []
  }
 ],
 "metadata": {
  "kernelspec": {
   "display_name": "Python 3 (ipykernel)",
   "language": "python",
   "name": "python3"
  },
  "language_info": {
   "codemirror_mode": {
    "name": "ipython",
    "version": 3
   },
   "file_extension": ".py",
   "mimetype": "text/x-python",
   "name": "python",
   "nbconvert_exporter": "python",
   "pygments_lexer": "ipython3",
   "version": "3.9.7"
  }
 },
 "nbformat": 4,
 "nbformat_minor": 5
}
