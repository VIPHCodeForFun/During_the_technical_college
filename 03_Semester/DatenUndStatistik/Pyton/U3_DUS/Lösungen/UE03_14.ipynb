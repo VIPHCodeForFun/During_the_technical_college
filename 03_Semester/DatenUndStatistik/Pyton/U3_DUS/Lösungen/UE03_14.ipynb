{
 "cells": [
  {
   "cell_type": "markdown",
   "id": "2465d3e4",
   "metadata": {},
   "source": [
    "# Übung 09\n",
    "\n",
    "Ein Biometrisches System zur Zugangskontrolle hat folgende Eckdaten: Das System erkennt eine berechtigte Person in 95 von 100 Fällen richtig, allerdings wird eine unberechtigte Person in 1 von 100 Fällen trotzdem durchgelassen. Das System soll in einer Firma mit 500 Mitarbeitern verwendet werden um den Zugang zum Serverraum zu überwachen, in den nur 3 Personen eintreten dürfen. Wie groß ist die Wahrscheinlichkeit dass eine durchgelassene Person auch Zutrittsberechtigt ist?\n",
    "\n",
    "Dieses Beispiel soll wieder auf zwei Arten berechnet werden. Die händische Variante haben im Vorgängerkurs bereits besprochen. Die Pythonimplementation soll nicht genau die händische Berechnung implementieren sondern mit Hilfe von zwei Funktionen simuliert werden. Ich schlage vor diese \"personBerechtigt\" und \"personDurchgelassen\" zu nennen.\n",
    "\n",
    "Hinweise:\n",
    "1. \"personBerechtigt\" soll unter der Verwendung der schon bekannten uniform Funktion als Ergebnis nur zurückliefern ob eine Person berechtigt ist oder nicht.\n",
    "2. Ich würde dann ein leeres Array initialisieren und mit Hilfe von append das Ergebnis von \"personBerechtigt\" befüllen.\n",
    "3. Für jede Person in dem nun befüllten Array ist es danach notwendig zu evaluieren ob die Personen auch tatsächlich durchgelassen wurde. Da hilft die Funktion \"personDurchgelassen\", welche sich wieder uniform und eine if-Abfrage zu Nutzen machen kann, um zu simulieren ob eine Personen durchgelassen wurde oder nicht.\n",
    "4. Abschließend gilt es noch diejenigen Personen zu finden die sowohl berechtigt waren und auch durchgelassen wurden. Deren Anzahl gilt es jenen gegenüberzustellen, die überhaupt durchgelassen worden sind.\n",
    "\n",
    "A ... Person berechtigt und durchgelassen\n",
    "\n",
    "B ... Person durchgelassen\n",
    "\n",
    "# Übung 14\n",
    "\n",
    "Verwende das Beispiel vom Biometrischen Zugangssystem und berechne ein 99% KI. Wie viele Zutrittsversuche sind notwendig um zu beurteilen ob die Genauigkeit des KIs bei 2% liegt? Bestimme die Anzahl der Simulationen die für eine adäquate Genauigkeit notwendig sind und visualisiere das KI in Abhängigkeit von den Zutrittsversuchen."
   ]
  },
  {
   "cell_type": "code",
   "execution_count": 18,
   "id": "8f7eab54",
   "metadata": {},
   "outputs": [
    {
     "name": "stdout",
     "output_type": "stream",
     "text": [
      "(5.722791899899499, 8.6772081001005)\n",
      "(5.724294396430922, 8.875705603569077)\n",
      "(6.829368682541187, 8.83729798412548)\n",
      "(6.326611443493156, 8.773388556506845)\n",
      "(7.18227651392944, 9.297723486070561)\n",
      "(7.155860838174402, 8.504139161825597)\n",
      "(7.6694909743065445, 8.680509025693457)\n",
      "(7.376199028938148, 8.15046763772852)\n",
      "(7.476993980782962, 8.203006019217039)\n",
      "(7.595204260666285, 8.248795739333714)\n"
     ]
    },
    {
     "data": {
      "image/png": "[encoded data removed]",
      "text/plain": [
       "<Figure size 432x288 with 1 Axes>"
      ]
     },
     "metadata": {
      "needs_background": "light"
     },
     "output_type": "display_data"
    }
   ],
   "source": [
    "import numpy as np\n",
    "import matplotlib.pyplot as plt\n",
    "from scipy import stats\n",
    "import seaborn as sns\n",
    "\n",
    "rng = np.random.default_rng()\n",
    "n = 15000\n",
    "\n",
    "class Person:\n",
    "    def __init__(self, berechtigt, durchgelassen):\n",
    "        self.berechtigt = berechtigt\n",
    "        self.durchgelassen = durchgelassen\n",
    "\n",
    "def find_items(lst, condition):\n",
    "    return [elem for i, elem in enumerate(lst) if condition(elem)]        \n",
    "\n",
    "def personBerechtigt():\n",
    "    return rng.uniform(low=0, high=1, size=1) <= (3/500)\n",
    "    \n",
    "def personDurchgelassen(istBerechtigt):\n",
    "    if istBerechtigt:\n",
    "        return rng.uniform(low=0, high=1, size=1) <= (95/100)\n",
    "    \n",
    "    return rng.uniform(low=0, high=1, size=1) <= (1/100)\n",
    "\n",
    "def createSim(n_pers, n_sim):\n",
    "    p_list = []\n",
    "    for i in range(0, n_sim):\n",
    "        persons = list()\n",
    "        for x in range(0, n_pers):\n",
    "            istBerechtigt = personBerechtigt()\n",
    "            durchgelassen = personDurchgelassen(istBerechtigt)\n",
    "            persons.append( Person(istBerechtigt, durchgelassen) )\n",
    "\n",
    "        countA = len(find_items(persons, lambda e: e.berechtigt == True and e.durchgelassen == True))\n",
    "        countB = len(find_items(persons, lambda e: e.durchgelassen == True))\n",
    "\n",
    "       \n",
    "        p_list.append(countB)\n",
    "    return p_list\n",
    "\n",
    "n_person = 500\n",
    "\n",
    "n_sims = [10, 20, 30, 40, 50, 100, 200, 300, 400, 500]\n",
    "p_means = []\n",
    "KIs = []\n",
    "for i in range(0, len(n_sims)):\n",
    "    sim = createSim(n_person, n_sims[i])\n",
    "    p_means.append(np.average(sim))\n",
    "    interval = stats.norm.interval(0.99, loc=p_means[i], scale=stats.sem(sim))\n",
    "    KIs.append(interval)\n",
    "\n",
    "for i in range(0, len(KIs)):\n",
    "    print(KIs[i])\n",
    "\n",
    "plt.errorbar(x=np.arange(0.1, len(n_sims), 1), \n",
    "             y=p_means, \n",
    "             yerr=[(top-bot)/2 for top,bot in KIs],\n",
    "             fmt='o')\n",
    "\n",
    "plt.hlines(xmin=0, xmax=10,\n",
    "           y=np.average(p_means), \n",
    "           linewidth=2.0,\n",
    "           color=\"red\");"
   ]
  },
  {
   "cell_type": "code",
   "execution_count": null,
   "id": "5129711b",
   "metadata": {},
   "outputs": [],
   "source": []
  }
 ],
 "metadata": {
  "kernelspec": {
   "display_name": "Python 3 (ipykernel)",
   "language": "python",
   "name": "python3"
  },
  "language_info": {
   "codemirror_mode": {
    "name": "ipython",
    "version": 3
   },
   "file_extension": ".py",
   "mimetype": "text/x-python",
   "name": "python",
   "nbconvert_exporter": "python",
   "pygments_lexer": "ipython3",
   "version": "3.9.7"
  }
 },
 "nbformat": 4,
 "nbformat_minor": 5
}
