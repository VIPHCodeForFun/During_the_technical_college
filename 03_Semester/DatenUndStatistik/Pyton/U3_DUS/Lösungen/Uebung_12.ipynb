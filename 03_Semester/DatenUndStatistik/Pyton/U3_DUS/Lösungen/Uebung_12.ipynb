{
 "cells": [
  {
   "cell_type": "markdown",
   "id": "f681f2fb",
   "metadata": {},
   "source": [
    "# Übung 12\n",
    "\n",
    "In einer Gruppe von Personen wählt jeder zufällig und unabhängig von den anderen 2 ”Freunde” aus. X bezeichnet die Anzahl der Personen, die von niemandem gewählt werden.\n",
    "\n",
    "Schätzen Sie den Erwartungswert von X durch eine geeignete Simulation."
   ]
  },
  {
   "cell_type": "code",
   "execution_count": 88,
   "id": "aa9cb366",
   "metadata": {
    "scrolled": true
   },
   "outputs": [
    {
     "name": "stdout",
     "output_type": "stream",
     "text": [
      "No one likes these people: [0, 10]\n",
      "No one likes these people: [4, 14]\n",
      "No one likes these people: [7, 9, 13, 14]\n",
      "No one likes these people: [15]\n",
      "No one likes these people: [6, 8, 10]\n",
      "No one likes these people: [6, 13, 15]\n",
      "No one likes these people: [7, 11]\n",
      "No one likes these people: [0, 1, 4, 15, 19]\n",
      "No one likes these people: [15]\n",
      "No one likes these people: [5, 6, 14, 18]\n",
      "No one likes these people: [2, 11, 18]\n",
      "No one likes these people: [15]\n",
      "No one likes these people: [4, 11, 13]\n",
      "No one likes these people: [1, 4, 10]\n",
      "No one likes these people: [2, 4, 13, 16]\n",
      "No one likes these people: [1, 9, 19]\n",
      "No one likes these people: [16]\n",
      "No one likes these people: [4, 18]\n",
      "No one likes these people: [13, 17]\n",
      "No one likes these people: [5, 6]\n",
      "No one likes these people: [2, 5]\n",
      "No one likes these people: [9]\n",
      "No one likes these people: [1, 4, 14, 16]\n",
      "No one likes these people: [1, 6, 7, 11]\n",
      "No one likes these people: [7]\n",
      "No one likes these people: [4, 9, 13]\n",
      "No one likes these people: [15, 17]\n",
      "No one likes these people: [5, 11]\n",
      "No one likes these people: [7, 9, 13]\n",
      "No one likes these people: [7, 9, 18]\n",
      "No one likes these people: [2]\n",
      "No one likes these people: [2]\n",
      "No one likes these people: [1, 18]\n",
      "No one likes these people: [0, 12]\n",
      "No one likes these people: [1, 8, 13]\n",
      "No one likes these people: [3, 14, 15]\n",
      "No one likes these people: [2, 4, 7, 12, 17]\n",
      "No one likes these people: []\n",
      "No one likes these people: [2]\n",
      "No one likes these people: [0, 3, 5, 16]\n",
      "No one likes these people: [1, 4, 5, 14]\n",
      "No one likes these people: [2, 8, 17]\n",
      "No one likes these people: [5, 19]\n",
      "No one likes these people: [10, 12, 16]\n",
      "No one likes these people: [9, 15]\n",
      "No one likes these people: [4, 9]\n",
      "No one likes these people: [3, 4]\n",
      "No one likes these people: [4, 10, 18]\n",
      "No one likes these people: [2, 5, 15, 16, 17]\n",
      "No one likes these people: [0, 8, 15, 17]\n",
      "Erwartungswert: 2\n"
     ]
    }
   ],
   "source": [
    "import numpy as np\n",
    "import math\n",
    "rng = np.random.default_rng()\n",
    "\n",
    "n_pers = 20\n",
    "n_sims = 50\n",
    "allFriends = np.arange(0, n_pers)\n",
    "results = []\n",
    "\n",
    "def choosePeopleNooneLikes():\n",
    "    allChosenFriends = []\n",
    "    friendsWhoNooneLikes = []\n",
    "    for i in range(0, n_pers):\n",
    "        possibleFriendsToChoose = [x for x in allFriends if x != i]\n",
    "        chosenFriends = rng.choice(possibleFriendsToChoose, 2, replace=False)\n",
    "        allChosenFriends.extend(chosenFriends)\n",
    "\n",
    "\n",
    "    for friend in allFriends:\n",
    "        isTheChosenOne = False\n",
    "        for chosenFriend in allChosenFriends:\n",
    "            if(friend == chosenFriend):\n",
    "                isTheChosenOne = True\n",
    "                break\n",
    "        if(isTheChosenOne == False):\n",
    "            friendsWhoNooneLikes.append(friend)\n",
    "            \n",
    "    print(\"No one likes these people: {}\".format(friendsWhoNooneLikes))\n",
    "    return len(friendsWhoNooneLikes)\n",
    "\n",
    "for x in range(0, n_sims):\n",
    "    results.append(choosePeopleNooneLikes())\n",
    "    \n",
    "print(\"Erwartungswert: {}\".format(math.floor(np.mean(results))))"
   ]
  }
 ],
 "metadata": {
  "kernelspec": {
   "display_name": "Python 3 (ipykernel)",
   "language": "python",
   "name": "python3"
  },
  "language_info": {
   "codemirror_mode": {
    "name": "ipython",
    "version": 3
   },
   "file_extension": ".py",
   "mimetype": "text/x-python",
   "name": "python",
   "nbconvert_exporter": "python",
   "pygments_lexer": "ipython3",
   "version": "3.9.7"
  }
 },
 "nbformat": 4,
 "nbformat_minor": 5
}
