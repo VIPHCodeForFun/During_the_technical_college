{
 "cells": [
  {
   "cell_type": "markdown",
   "id": "f0f35739",
   "metadata": {},
   "source": [
    "# Übung 15:\n",
    "Erzeugt Stichproben der Größe n={100, 1000, 10000} aus einer Normalverteilung mit Erwartungswert 2 und Varianz 3. Berechne mit Hilfe von Python einen Punktschätzer für die Erwartungswerte und Varianzen der Stichproben, sowie 95% Konfidenzintervalle für den Mittelwert. Die Berechnung der KIs soll sowohl mit den geschätzten Varianzen als auch mit der\n",
    "angegebenen Varianz σ2 = 3 erfolgen."
   ]
  },
  {
   "cell_type": "code",
   "execution_count": 58,
   "id": "6ad1fee5",
   "metadata": {},
   "outputs": [
    {
     "name": "stdout",
     "output_type": "stream",
     "text": [
      "Für n = 100\n",
      "Erwartungswert = 1.7464010994366461\n",
      "Varianz = 2.9357807271718492\n",
      "Konfidenzintervall mit berechneten Werten = (1.4088867036341555, 2.083915495239137)\n",
      "Konfidenzintervall mit originalen Werten = (1.4069253792137946, 2.0858768196594974)\n",
      "\n",
      "\n",
      "Für n = 1000\n",
      "Erwartungswert = 1.9976958434005498\n",
      "Varianz = 2.847177872993273\n",
      "Konfidenzintervall mit berechneten Werten = (1.893061887061729, 2.102329799739371)\n",
      "Konfidenzintervall mit originalen Werten = (1.8903441947775204, 2.105047492023579)\n",
      "\n",
      "\n",
      "Für n = 10000\n",
      "Erwartungswert = 1.9873382142229734\n",
      "Varianz = 2.941113344463436\n",
      "Konfidenzintervall mit berechneten Werten = (1.9537237891508066, 2.0209526392951402)\n",
      "Konfidenzintervall mit originalen Werten = (1.9533906422006884, 2.0212857862452585)\n",
      "\n",
      "\n"
     ]
    }
   ],
   "source": [
    "import numpy as np\n",
    "from math import sqrt\n",
    "from scipy import stats\n",
    "\n",
    "rng = np.random.default_rng()\n",
    "ns = [100, 1000, 10000]\n",
    "\n",
    "for n in ns:\n",
    "    muOriginal, sigmaOriginal = 2, sqrt(3) # mean and standard deviation\n",
    "    normalVals = rng.normal(muOriginal, sigmaOriginal, n)\n",
    "    muCalculated = np.average(normalVals)\n",
    "    sigmaCalculated = np.std(normalVals)\n",
    "\n",
    "    print(\"Für n = {}\\nErwartungswert = {}\\nVarianz = {}\".format(n, muCalculated, np.var(normalVals)))\n",
    "    \n",
    "    standardErrorOriginal = sigmaOriginal / sqrt(n)\n",
    "    standardErrorCalculated = stats.sem(normalVals)\n",
    "    conf_int = stats.norm.interval(0.95, loc=muCalculated, scale=standardErrorCalculated)\n",
    "    print( \"Konfidenzintervall mit berechneten Werten = {}\" .format(conf_int))\n",
    "    \n",
    "    conf_int = stats.norm.interval(0.95, loc=muCalculated, scale=standardErrorOriginal)\n",
    "    print( \"Konfidenzintervall mit originalen Werten = {}\" .format(conf_int))\n",
    "    print(\"\\n\")"
   ]
  }
 ],
 "metadata": {
  "kernelspec": {
   "display_name": "Python 3 (ipykernel)",
   "language": "python",
   "name": "python3"
  },
  "language_info": {
   "codemirror_mode": {
    "name": "ipython",
    "version": 3
   },
   "file_extension": ".py",
   "mimetype": "text/x-python",
   "name": "python",
   "nbconvert_exporter": "python",
   "pygments_lexer": "ipython3",
   "version": "3.9.7"
  }
 },
 "nbformat": 4,
 "nbformat_minor": 5
}
