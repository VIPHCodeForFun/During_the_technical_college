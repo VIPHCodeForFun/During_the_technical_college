{
 "cells": [
  {
   "cell_type": "markdown",
   "id": "f7af60c7",
   "metadata": {},
   "source": []
  },
  {
   "cell_type": "code",
   "execution_count": 1,
   "id": "babc3e4a",
   "metadata": {},
   "outputs": [
    {
     "ename": "ModuleNotFoundError",
     "evalue": "No module named 'plt'",
     "output_type": "error",
     "traceback": [
      "\u001b[1;31m---------------------------------------------------------------------------\u001b[0m",
      "\u001b[1;31mModuleNotFoundError\u001b[0m                       Traceback (most recent call last)",
      "\u001b[1;32m~\\AppData\\Local\\Temp/ipykernel_22688/1674536204.py\u001b[0m in \u001b[0;36m<module>\u001b[1;34m\u001b[0m\n\u001b[0;32m      1\u001b[0m \u001b[1;32mimport\u001b[0m \u001b[0mnumpy\u001b[0m \u001b[1;32mas\u001b[0m \u001b[0mnp\u001b[0m\u001b[1;33m\u001b[0m\u001b[1;33m\u001b[0m\u001b[0m\n\u001b[1;32m----> 2\u001b[1;33m \u001b[1;32mimport\u001b[0m \u001b[0mmatplotlib\u001b[0m\u001b[1;33m.\u001b[0m\u001b[0mpyplot\u001b[0m \u001b[1;32mas\u001b[0m \u001b[0mpp\u001b[0m\u001b[1;33m,\u001b[0m \u001b[0mplt\u001b[0m\u001b[1;33m\u001b[0m\u001b[1;33m\u001b[0m\u001b[0m\n\u001b[0m\u001b[0;32m      3\u001b[0m \u001b[1;32mimport\u001b[0m \u001b[0mpandas\u001b[0m \u001b[1;32mas\u001b[0m \u001b[0mpd\u001b[0m\u001b[1;33m\u001b[0m\u001b[1;33m\u001b[0m\u001b[0m\n\u001b[0;32m      4\u001b[0m \u001b[1;32mimport\u001b[0m \u001b[0mmath\u001b[0m\u001b[1;33m\u001b[0m\u001b[1;33m\u001b[0m\u001b[0m\n\u001b[0;32m      5\u001b[0m \u001b[0mrng\u001b[0m \u001b[1;33m=\u001b[0m \u001b[0mnp\u001b[0m\u001b[1;33m.\u001b[0m\u001b[0mrandom\u001b[0m\u001b[1;33m.\u001b[0m\u001b[0mdefault_rng\u001b[0m\u001b[1;33m(\u001b[0m\u001b[1;33m)\u001b[0m\u001b[1;33m\u001b[0m\u001b[1;33m\u001b[0m\u001b[0m\n",
      "\u001b[1;31mModuleNotFoundError\u001b[0m: No module named 'plt'"
     ]
    }
   ],
   "source": [
    "import numpy as np\n",
    "import matplotlib.pyplot as plt\n",
    "import matplotlib.pyplot as pp\n",
    "import pandas as pd\n",
    "import math\n",
    "rng = np.random.default_rng()\n",
    "\n",
    "from collections import Counter\n",
    "from scipy.stats import stats, norm"
   ]
  },
  {
   "cell_type": "code",
   "execution_count": null,
   "id": "78dde08c",
   "metadata": {},
   "outputs": [],
   "source": [
    "\n",
    "\n",
    "def personBerechtigt():    \n",
    "    return rng.choice([0, 1], p = [(497 / 500), (3 / 500)])\n",
    "\n",
    "def personDurchgelassen(istPersonBerechtigt):\n",
    "    if istPersonBerechtigt:\n",
    "        return rng.choice([0, 1], p = [(0.05), (0.95)])\n",
    "    return rng.choice([0, 1], p = [(0.99), (0.01)])\n",
    "\n",
    "def EinzelSim(n_Pers):\n",
    "    dfe = pd.DataFrame(columns = ['Berechtigt', 'Durchgelassen'])\n",
    "    for i in range(n_Pers):\n",
    "        Berechtigt = personBerechtigt()\n",
    "        Durchgelassen = personDurchgelassen(Berechtigt)\n",
    "        dfe = dfe.append({'Berechtigt' : Berechtigt, 'Durchgelassen' : Durchgelassen}, ignore_index = True)\n",
    "    Anzahl_Ber = len(dfe[(dfe[\"Berechtigt\"] == True)])\n",
    "    Anzahl_Ber_Durch = len(dfe[(dfe[\"Berechtigt\"] == True) & (dfe[\"Durchgelassen\"] == True)])\n",
    "    Anzahl_UnBer_Durch = len(dfe[(dfe[\"Berechtigt\"] == False) & (dfe[\"Durchgelassen\"] == True)])\n",
    "    pX = Anzahl_Ber / (Anzahl_Ber_Durch + Anzahl_UnBer_Durch)\n",
    "    return pX\n",
    "\n",
    "n_Pers = 500\n",
    "n_Sim = [10, 50, 100]\n",
    "\n",
    "#\n",
    "def Sim(n_Pers, n_Sim):\n",
    "    KI_Arr = []\n",
    "    Mittel_Arr = []\n",
    "    for n in n_Sim:\n",
    "        Erg = []\n",
    "        for elem in range(n):\n",
    "            Erg.append(EinzelSim(n_Pers))\n",
    "        #print(Erg)\n",
    "        Mittel = np.average(Erg)\n",
    "        StdAbw = np.std(Erg)\n",
    "        StdFehler = stats.sem(Erg)\n",
    "        KI = norm.interval(0.99, loc = Mittel, scale = StdFehler)\n",
    "        KI_Arr.append(KI)\n",
    "        Mittel_Arr.append(Mittel)\n",
    "        print(n, \" Durchläufe:\\tMittelwert:\\t\\t\", Mittel)\n",
    "        print(n, \" Durchläufe:\\tStandardabweichung:\\t\", StdAbw)\n",
    "        #print(n, \" Durchläufe:\\tStandardfehler:\\t\\t\", StdFehler)\n",
    "        print(n, \" Durchläufe:\\tKI (99%):\\t\\t\", KI, \"\\n\")\n",
    "    x = n_Sim\n",
    "    plt.figure(figsize = (10, 10))\n",
    "    plt.title('Anzahl Simulationen vs. Genauigkeit')\n",
    "    plt.xlabel('Anzahl Simulationen')\n",
    "    plt.ylabel('pX (Mittelwert / KI)')\n",
    "    plt.plot(x, KI_Arr, label = 'KI')\n",
    "    plt.plot(x, Mittel_Arr, ':r', label = 'Mittel')\n",
    "    plt.legend(loc = 'best')\n",
    "    plt.show()\n",
    "\n",
    "Sim(n_Pers, n_Sim)"
   ]
  },
  {
   "cell_type": "code",
   "execution_count": null,
   "id": "639aa5bc",
   "metadata": {},
   "outputs": [],
   "source": []
  },
  {
   "cell_type": "code",
   "execution_count": null,
   "id": "a3b86a14",
   "metadata": {},
   "outputs": [],
   "source": []
  },
  {
   "cell_type": "code",
   "execution_count": null,
   "id": "11e9c108",
   "metadata": {},
   "outputs": [],
   "source": []
  }
 ],
 "metadata": {
  "kernelspec": {
   "display_name": "Python 3 (ipykernel)",
   "language": "python",
   "name": "python3"
  },
  "language_info": {
   "codemirror_mode": {
    "name": "ipython",
    "version": 3
   },
   "file_extension": ".py",
   "mimetype": "text/x-python",
   "name": "python",
   "nbconvert_exporter": "python",
   "pygments_lexer": "ipython3",
   "version": "3.9.7"
  }
 },
 "nbformat": 4,
 "nbformat_minor": 5
}
